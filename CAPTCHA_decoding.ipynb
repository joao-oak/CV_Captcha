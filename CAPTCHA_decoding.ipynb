{
 "cells": [
  {
   "cell_type": "markdown",
   "metadata": {
    "id": "KpuW6FMpjFFO"
   },
   "source": [
    "# **Computer Vision** | MSc in Data Science and Engineering\n",
    "## Assignment 2 - CAPTCHA Decoding\n",
    "### Bruno Silva (up201508756) **|** João Carvalho (up201507023)\n",
    "##### November, 2024\n"
   ]
  },
  {
   "cell_type": "markdown",
   "metadata": {},
   "source": [
    "## TO DO\n",
    "\n",
    "Report metrics on image level and on character level \\\n",
    "Report efficiency metrics like run time, number of parameters, number of FLOPs \\\n",
    "Do error analysis:\n",
    "- identify the worst performing characters, try to improve on that front\n",
    "- report common patterns like characters that are visibly difficult to identify, characters easily confusing like 0 and O, l and 1, etc. And maybe augment data on these to try to improve the model\n",
    "\n",
    "Start from a very simple model as a baseline \\\n",
    "Try to get class representation percentages to see if there is any class imbalance \\\n",
    "Consider using grayscale images - maybe first with normal images and then grayscale to see if there's any difference in performance.\n",
    "\n",
    "Treino:\n",
    "- Separar todas as imagens em caracteres diferentes e guardar com a respetiva label (temos de ter a ordem porque os caracteres estão por ordem no nome). Basicamente criar um dataset novo. Treinar o modelo nestes caracteres individuais.\n",
    "\n",
    "Teste:\n",
    "- A pipeline vai começar por dividir a imagem em caracteres e guarda a ordem. Depois caracter a caracter aplica o modelo para saber que caracter se trata.\n",
    "- O output são as predictions de cada caracter por ordem."
   ]
  },
  {
   "cell_type": "markdown",
   "metadata": {
    "id": "_2cq89KMjRzY"
   },
   "source": [
    "## Introduction\n"
   ]
  },
  {
   "cell_type": "code",
   "execution_count": 14,
   "metadata": {
    "id": "6xFJId0jxVN5"
   },
   "outputs": [],
   "source": [
    "import torch\n",
    "import numpy as np\n",
    "import matplotlib.pyplot as plt\n",
    "from torch import nn\n",
    "from torch.utils.data import Dataset, DataLoader, random_split\n",
    "from torchvision import datasets, transforms, models\n",
    "from torch.nn.utils.rnn import pad_sequence\n",
    "from tqdm import tqdm\n",
    "from PIL import Image\n",
    "import torch.nn.functional as F\n",
    "import torchvision.transforms.functional as func\n",
    "import torch.optim as optim\n",
    "import os\n",
    "import cv2 as cv"
   ]
  },
  {
   "cell_type": "code",
   "execution_count": 15,
   "metadata": {
    "colab": {
     "base_uri": "https://localhost:8080/"
    },
    "id": "7VgoiDBP3ASu",
    "outputId": "b245deff-6fbc-4603-c2d2-a6eff2e31893"
   },
   "outputs": [
    {
     "name": "stdout",
     "output_type": "stream",
     "text": [
      "Using cpu device\n"
     ]
    }
   ],
   "source": [
    "device = torch.device('cuda' if torch.cuda.is_available() else 'cpu')\n",
    "print(f\"Using {device} device\")"
   ]
  },
  {
   "cell_type": "markdown",
   "metadata": {},
   "source": [
    "## Pre-processing (DO NOT RUN)\n",
    "This is for the initial segmentation of each image into individual characters. In colab this is very slow and unreliable to run (it doesn't manage the upload of 20000+ images well). We also tried using Google Drive as the source of the data but PyTorch's DataLoader is extremely slow on fetching the data from the drive. Our solution was to run the segmentation locally and save everything in a zip file with the character images instead. The unzipping of the zip files is done below and works well with colab."
   ]
  },
  {
   "cell_type": "code",
   "execution_count": 9,
   "metadata": {},
   "outputs": [],
   "source": [
    "def segment_char(img_name, data_folder):\n",
    "\n",
    "    img_path = os.path.join(data_folder, img_name)\n",
    "\n",
    "    # image to grayscale\n",
    "    image = cv.imread(img_path)\n",
    "    gray = cv.cvtColor(image, cv.COLOR_BGR2GRAY)\n",
    "\n",
    "    # grabbing contours\n",
    "    _, thresh = cv.threshold(gray, 0, 255, cv.THRESH_BINARY_INV + cv.THRESH_OTSU)\n",
    "    contours, _ = cv.findContours(thresh, cv.RETR_EXTERNAL, cv.CHAIN_APPROX_SIMPLE)\n",
    "\n",
    "    # applying a threshold to remove small contours\n",
    "    threshold = 100\n",
    "    contours = [contour for contour in contours if cv.contourArea(contour) > threshold]\n",
    "\n",
    "    # creating individual images based on the bounding boxes\n",
    "    individual_images = []\n",
    "    x_values = []\n",
    "    for contour in contours:\n",
    "        x, y, w, h = cv.boundingRect(contour)\n",
    "        x_values.append(x)\n",
    "        individual_image = image[y:y+h, x:x+w]\n",
    "        individual_images.append(individual_image)\n",
    "\n",
    "    # get the sorted idx of x_values -> this is to order the images from left to right, otherwise the contours are ordered in some other way\n",
    "    sorted_idx = np.argsort(x_values)\n",
    "    # sort individual_images based on sorted_idx\n",
    "    individual_images = [individual_images[i] for i in sorted_idx]\n",
    "\n",
    "    # new folder for individual images\n",
    "    new_data_folder = data_folder + \"_ind\"\n",
    "\n",
    "    # save individual images\n",
    "    full_img_name = img_name.split('.')[0]\n",
    "    for i, img in enumerate(individual_images):\n",
    "        char = img_name[i]\n",
    "        cv.imwrite(f'{new_data_folder}/{char}_{full_img_name}_{i}.png', img)"
   ]
  },
  {
   "cell_type": "code",
   "execution_count": 10,
   "metadata": {},
   "outputs": [],
   "source": [
    "data_folder = \"CAPTCHA_dataset/soft/\"\n",
    "\n",
    "for folder in ['train', 'test']:\n",
    "    iter_data_folder = data_folder + folder\n",
    "\n",
    "    for img in os.listdir(iter_data_folder):\n",
    "        segment_char(img, iter_data_folder)"
   ]
  },
  {
   "cell_type": "code",
   "execution_count": 11,
   "metadata": {},
   "outputs": [],
   "source": [
    "# morphological operations\n",
    "\n",
    "def dilate(array, kernel_size):\n",
    "    if np.max(array) == 1:\n",
    "        array2 = (array * 255).astype(np.uint8)\n",
    "    else:\n",
    "        array2 = array.astype(np.uint8)\n",
    "\n",
    "    kernel = np.ones((kernel_size, kernel_size), np.uint8) \n",
    "    array_dilated = cv.dilate(array2, kernel, iterations=1) #dilate\n",
    "    return array_dilated\n",
    "\n",
    "def erode(array, kernel_size):\n",
    "    if np.max(array) == 1:\n",
    "        array2 = (array * 255).astype(np.uint8)\n",
    "    else:\n",
    "        array2 = array.astype(np.uint8)\n",
    "\n",
    "    kernel = np.ones((kernel_size, kernel_size), np.uint8) \n",
    "    array_eroded = cv.erode(array2, kernel, iterations=1) #erode\n",
    "    return array_eroded"
   ]
  },
  {
   "cell_type": "code",
   "execution_count": 12,
   "metadata": {},
   "outputs": [
    {
     "data": {
      "text/plain": [
       "<matplotlib.image.AxesImage at 0x228805db7c0>"
      ]
     },
     "execution_count": 12,
     "metadata": {},
     "output_type": "execute_result"
    },
    {
     "data": {
      "image/png": "[encoded data removed]",
      "text/plain": [
       "<Figure size 1500x1500 with 3 Axes>"
      ]
     },
     "metadata": {},
     "output_type": "display_data"
    }
   ],
   "source": [
    "img_path = \"CAPTCHA_dataset/soft/train_ind/s_vs0n_1.png\"\n",
    "img = cv.imread(img_path)\n",
    "imgRGB = cv.cvtColor(img, cv.COLOR_BGR2RGB)\n",
    "img = cv.cvtColor(img, cv.COLOR_BGR2GRAY)\n",
    "\n",
    "_, imgThreshold = cv.threshold(img, 150, 255, cv.THRESH_BINARY_INV)\n",
    "\n",
    "img_eroded = erode(imgThreshold, 3)\n",
    "\n",
    "plt.figure(figsize=(15,15))\n",
    "plt.subplot(1,6,1)\n",
    "plt.imshow(img, cmap='gray')\n",
    "plt.subplot(1,6,2)\n",
    "plt.imshow(imgThreshold, cmap='gray')\n",
    "plt.subplot(1,6,3)\n",
    "plt.imshow(img_eroded, cmap='gray')"
   ]
  },
  {
   "cell_type": "code",
   "execution_count": 13,
   "metadata": {},
   "outputs": [
    {
     "data": {
      "text/plain": [
       "<matplotlib.image.AxesImage at 0x22882b74100>"
      ]
     },
     "execution_count": 13,
     "metadata": {},
     "output_type": "execute_result"
    },
    {
     "data": {
      "image/png": "[encoded data removed]",
      "text/plain": [
       "<Figure size 1500x1500 with 6 Axes>"
      ]
     },
     "metadata": {},
     "output_type": "display_data"
    }
   ],
   "source": [
    "# WATERSHED ATTEMPT\n",
    "\n",
    "img_path = \"CAPTCHA_dataset/soft/train_ind/s_vs0n_1.png\"\n",
    "img = cv.imread(img_path)\n",
    "imgRGB = cv.cvtColor(img, cv.COLOR_BGR2RGB)\n",
    "img = cv.cvtColor(img, cv.COLOR_BGR2GRAY)\n",
    "\n",
    "_, imgThreshold = cv.threshold(img, 200, 255, cv.THRESH_BINARY_INV)\n",
    "\n",
    "distTrans = cv.distanceTransform(imgThreshold, cv.DIST_L2, 5) \n",
    "\n",
    "_, distThresh = cv.threshold(distTrans, 5, 255, cv.THRESH_BINARY)\n",
    "\n",
    "distThresh = np.uint8(distThresh)\n",
    "_, labels = cv.connectedComponents(distThresh)\n",
    "\n",
    "labels = np.int32(labels)\n",
    "mask = cv.watershed(imgRGB, labels)\n",
    "\n",
    "imgRGB[mask == -1] = [255, 0, 0]\n",
    "\n",
    "\n",
    "plt.figure(figsize=(15,15))\n",
    "plt.subplot(1,6,1)\n",
    "plt.imshow(img, cmap='gray')\n",
    "plt.subplot(1,6,2)\n",
    "plt.imshow(imgThreshold, cmap='gray')\n",
    "plt.subplot(1,6,3)\n",
    "plt.imshow(distTrans, cmap='gray')\n",
    "plt.subplot(1,6,4)\n",
    "plt.imshow(distThresh, cmap='gray')\n",
    "plt.subplot(1,6,5)\n",
    "plt.imshow(mask)\n",
    "plt.subplot(1,6,6)\n",
    "plt.imshow(imgRGB)"
   ]
  },
  {
   "cell_type": "markdown",
   "metadata": {},
   "source": [
    "## Data"
   ]
  },
  {
   "cell_type": "code",
   "execution_count": null,
   "metadata": {},
   "outputs": [],
   "source": [
    "# Unzipping the datasets\n",
    "'''\n",
    "This will unzip train_ind.zip and test_ind.zip both from the hard folder and soft folder.\n",
    "Make sure to have a CAPTCHA_dataset folder with a /hard and /soft folders inside in the colab directory created before running this cell.\n",
    "'''\n",
    "from zipfile import ZipFile\n",
    "\n",
    "for folder in [\"train\", \"test\"]:\n",
    "\n",
    "    with ZipFile(f\"{folder}_ind.zip\", 'r') as zObject:\n",
    "\n",
    "        zObject.extractall(path=\"CAPTCHA_dataset/soft/\")"
   ]
  },
  {
   "cell_type": "code",
   "execution_count": 2,
   "metadata": {},
   "outputs": [
    {
     "name": "stdout",
     "output_type": "stream",
     "text": [
      "27662\n",
      "6245\n"
     ]
    }
   ],
   "source": [
    "# to check if all the images are there\n",
    "print(len([name for name in os.listdir('CAPTCHA_dataset/soft/train_ind')])) # should be 27662\n",
    "print(len([name for name in os.listdir('CAPTCHA_dataset/soft/test_ind')])) # should be 6245"
   ]
  },
  {
   "cell_type": "code",
   "execution_count": 3,
   "metadata": {},
   "outputs": [],
   "source": [
    "class CaptchaDataset(Dataset):\n",
    "    def __init__(self, root_dir, transform):\n",
    "\n",
    "        self.root_dir = root_dir\n",
    "        self.transform = transform\n",
    "        self.image_paths = []\n",
    "        self.labels = []\n",
    "\n",
    "        # getting all image paths and labels\n",
    "        for img_name in os.listdir(root_dir):\n",
    "            img_path = os.path.join(root_dir, img_name)\n",
    "\n",
    "            self.image_paths.append(img_path)\n",
    "\n",
    "            label = img_name[0] # removing the .png from the name and choosing the first character\n",
    "            self.labels.append(label)\n",
    "\n",
    "    def __len__(self):\n",
    "        return len(self.image_paths) # to get the len(dataset)\n",
    "\n",
    "    def __getitem__(self, idx):\n",
    "        img_path = self.image_paths[idx]\n",
    "        label = self.labels[idx]\n",
    "        label = torch.tensor(char_map[label], dtype=torch.long) # with this we don't need the collate function we had initially\n",
    "        image = Image.open(img_path).convert(\"RGB\")\n",
    "        image = self.transform(image)\n",
    "\n",
    "        return image, label"
   ]
  },
  {
   "cell_type": "code",
   "execution_count": 4,
   "metadata": {},
   "outputs": [
    {
     "data": {
      "text/plain": [
       "{'0': 0,\n",
       " '1': 1,\n",
       " '2': 2,\n",
       " '3': 3,\n",
       " '4': 4,\n",
       " '5': 5,\n",
       " '6': 6,\n",
       " '7': 7,\n",
       " '8': 8,\n",
       " '9': 9,\n",
       " 'a': 10,\n",
       " 'b': 11,\n",
       " 'c': 12,\n",
       " 'd': 13,\n",
       " 'e': 14,\n",
       " 'f': 15,\n",
       " 'g': 16,\n",
       " 'h': 17,\n",
       " 'i': 18,\n",
       " 'j': 19,\n",
       " 'k': 20,\n",
       " 'l': 21,\n",
       " 'm': 22,\n",
       " 'n': 23,\n",
       " 'o': 24,\n",
       " 'p': 25,\n",
       " 'q': 26,\n",
       " 'r': 27,\n",
       " 's': 28,\n",
       " 't': 29,\n",
       " 'u': 30,\n",
       " 'v': 31,\n",
       " 'w': 32,\n",
       " 'x': 33,\n",
       " 'y': 34,\n",
       " 'z': 35}"
      ]
     },
     "execution_count": 4,
     "metadata": {},
     "output_type": "execute_result"
    }
   ],
   "source": [
    "char_map = {ch: idx for idx, ch in enumerate(\"0123456789abcdefghijklmnopqrstuvwxyz\")}\n",
    "idx_to_char = {idx: ch for ch, idx in char_map.items()}  # Reverse mapping\n",
    "\n",
    "char_map"
   ]
  },
  {
   "cell_type": "code",
   "execution_count": 5,
   "metadata": {},
   "outputs": [],
   "source": [
    "transform = transforms.Compose([\n",
    "    transforms.Resize((32, 16)),\n",
    "    transforms.ToTensor(),\n",
    "    transforms.Normalize(mean=[0.5, 0.5, 0.5], std=[0.5, 0.5, 0.5])\n",
    "])"
   ]
  },
  {
   "cell_type": "code",
   "execution_count": 6,
   "metadata": {},
   "outputs": [],
   "source": [
    "train_dir = 'CAPTCHA_dataset/soft/train_ind'\n",
    "test_dir = 'CAPTCHA_dataset/soft/test_ind'\n",
    "\n",
    "train_dataset = CaptchaDataset(root_dir=train_dir, transform=transform)\n",
    "test_dataset = CaptchaDataset(root_dir=test_dir, transform=transform)\n",
    "\n",
    "train_size = int(0.8 * len(train_dataset))\n",
    "val_size = len(train_dataset) - train_size\n",
    "train_dataset, val_dataset = random_split(train_dataset, [train_size, val_size])\n",
    "\n",
    "train_loader = DataLoader(train_dataset, batch_size=32, shuffle=True, num_workers=0)\n",
    "val_loader = DataLoader(val_dataset, batch_size=32, shuffle=False, num_workers=0)\n",
    "test_loader = DataLoader(test_dataset, batch_size=32, shuffle=False, num_workers=0)"
   ]
  },
  {
   "cell_type": "code",
   "execution_count": 7,
   "metadata": {},
   "outputs": [
    {
     "name": "stdout",
     "output_type": "stream",
     "text": [
      "22129\n",
      "5533\n",
      "6245\n"
     ]
    }
   ],
   "source": [
    "print(len(train_dataset))\n",
    "print(len(val_dataset))\n",
    "print(len(test_dataset))"
   ]
  },
  {
   "cell_type": "code",
   "execution_count": 8,
   "metadata": {},
   "outputs": [
    {
     "name": "stdout",
     "output_type": "stream",
     "text": [
      "Image Batch Shape: torch.Size([32, 3, 32, 16])\n"
     ]
    },
    {
     "data": {
      "image/png": "[encoded data removed]",
      "text/plain": [
       "<Figure size 640x480 with 1 Axes>"
      ]
     },
     "metadata": {},
     "output_type": "display_data"
    }
   ],
   "source": [
    "for images, labels in train_loader:\n",
    "    print(\"Image Batch Shape:\", images.shape)\n",
    "\n",
    "    # first image in the batch\n",
    "    first_image = images[0]\n",
    "    label = labels[0]\n",
    "\n",
    "    #converting label indices back to characters\n",
    "    decoded_label = idx_to_char[label.item()]\n",
    "\n",
    "    # this is for matplotlib to display\n",
    "    first_image = func.to_pil_image(first_image)\n",
    "\n",
    "    plt.imshow(first_image)\n",
    "    plt.title(f\"Label: {decoded_label}\")\n",
    "    plt.axis('off')\n",
    "    plt.show()\n",
    "\n",
    "    break"
   ]
  },
  {
   "cell_type": "markdown",
   "metadata": {
    "id": "d4l0eii8xPjS"
   },
   "source": [
    "## Model"
   ]
  },
  {
   "cell_type": "code",
   "execution_count": 9,
   "metadata": {},
   "outputs": [],
   "source": [
    "# Baseline Model\n",
    "\n",
    "class Baseline_CNN(nn.Module):\n",
    "    def __init__(self, num_classes=36):\n",
    "        super(Baseline_CNN, self).__init__()\n",
    "        self.conv1 = nn.Conv2d(3, 8, kernel_size=3, padding=1)\n",
    "        self.conv2 = nn.Conv2d(8, 16, kernel_size=3, padding=1)\n",
    "        self.pool = nn.MaxPool2d(2, 2)\n",
    "        self.fc1 = nn.Linear(16 * 4 * 8, 64) # 32x16 after two MaxPooling layers => 8x4\n",
    "        self.fc2 = nn.Linear(64, num_classes)\n",
    "\n",
    "    def forward(self, x):\n",
    "        x = self.pool(F.relu(self.conv1(x)))\n",
    "        x = self.pool(F.relu(self.conv2(x)))\n",
    "        x = x.view(x.size(0), -1)\n",
    "        x = F.relu(self.fc1(x))\n",
    "        x = self.fc2(x)\n",
    "        return x"
   ]
  },
  {
   "cell_type": "code",
   "execution_count": 12,
   "metadata": {
    "id": "TldUKsGoweYW"
   },
   "outputs": [],
   "source": [
    "# Model Architecture\n",
    "\n",
    "class CAPTCHA_CNN(nn.Module):\n",
    "    def __init__(self, num_classes=36):\n",
    "        super(CAPTCHA_CNN, self).__init__()\n",
    "        self.conv1 = nn.Conv2d(3, 32, kernel_size=3, padding=1)\n",
    "        self.conv2 = nn.Conv2d(32, 64, kernel_size=3, padding=1)\n",
    "        self.conv3 = nn.Conv2d(64, 128, kernel_size=3, padding=1)\n",
    "        self.pool = nn.MaxPool2d(2, 2)\n",
    "        self.dropout = nn.Dropout(0.5)\n",
    "        self.fc1 = nn.Linear(128 * 4 * 8, 256) # 32x16 after two MaxPooling layers => 8x4\n",
    "        self.fc2 = nn.Linear(256, num_classes)\n",
    "\n",
    "    def forward(self, x):\n",
    "        x = F.relu(self.conv1(x))\n",
    "        x = self.pool(F.relu(self.conv2(x)))\n",
    "        x = self.dropout(x)\n",
    "        x = self.pool(F.relu(self.conv3(x)))\n",
    "        x = self.dropout(x)\n",
    "        x = x.view(x.size(0), -1)\n",
    "        x = F.relu(self.fc1(x))\n",
    "        x = self.fc2(x)\n",
    "        return x"
   ]
  },
  {
   "cell_type": "code",
   "execution_count": null,
   "metadata": {},
   "outputs": [],
   "source": [
    "num_classes = 36\n",
    "learning_rate = 0.0001\n",
    "epochs = 10\n",
    "\n",
    "model = Baseline_CNN(num_classes=num_classes).to(device)\n",
    "loss_fn = nn.CrossEntropyLoss()\n",
    "optimizer = optim.Adam(model.parameters(), lr=learning_rate)\n",
    "\n",
    "def train(train_loader, val_loader):\n",
    "    for epoch in range(epochs):\n",
    "        model.train()\n",
    "        running_loss = 0.0\n",
    "        correct_train = 0\n",
    "        total_train = 0\n",
    "\n",
    "        for i, (inputs, labels) in enumerate(train_loader):\n",
    "            inputs, labels = inputs.to(device), labels.to(device)\n",
    "\n",
    "            outputs = model(inputs)\n",
    "            loss = loss_fn(outputs, labels)\n",
    "\n",
    "            optimizer.zero_grad()\n",
    "            loss.backward()\n",
    "            optimizer.step()\n",
    "\n",
    "            running_loss += loss.item()\n",
    "\n",
    "            # train accuracy\n",
    "            _, predicted = torch.max(outputs, 1)\n",
    "            total_train += labels.size(0)\n",
    "            correct_train += (predicted == labels).sum().item()\n",
    "\n",
    "        train_accuracy = 100 * correct_train / total_train\n",
    "\n",
    "        # Validation\n",
    "        model.eval()\n",
    "        val_loss = 0.0\n",
    "        correct_val = 0\n",
    "        total_val = 0\n",
    "        with torch.no_grad():\n",
    "            for inputs, labels in val_loader:\n",
    "                inputs, labels = inputs.to(device), labels.to(device)\n",
    "\n",
    "                outputs = model(inputs)\n",
    "                loss = loss_fn(outputs, labels)\n",
    "                val_loss += loss.item()\n",
    "\n",
    "                # validation accuracy\n",
    "                _, predicted = torch.max(outputs, 1)\n",
    "                total_val += labels.size(0)\n",
    "                correct_val += (predicted == labels).sum().item()\n",
    "\n",
    "        val_accuracy = 100 * correct_val / total_val\n",
    "\n",
    "        print(f\"Epoch [{epoch + 1}/{epochs}], \"\n",
    "              f\"Train Loss: {running_loss / len(train_loader):.4f}, Train Accuracy: {train_accuracy:.2f}%, \"\n",
    "              f\"Validation Loss: {val_loss / len(val_loader):.4f}, Validation Accuracy: {val_accuracy:.2f}%\")\n",
    "        \n",
    "def eval(test_loader):\n",
    "    model.eval()\n",
    "    correct = 0\n",
    "    total = 0\n",
    "    with torch.no_grad():\n",
    "        for inputs, labels in test_loader:\n",
    "            inputs, labels = inputs.to(device), labels.to(device)\n",
    "            outputs = model(inputs)\n",
    "            _, predicted = torch.max(outputs, 1)\n",
    "            total += labels.size(0)\n",
    "            correct += (predicted == labels).sum().item()\n",
    "\n",
    "    print(f\"Test Accuracy: {100 * correct / total:.2f}%\")"
   ]
  },
  {
   "cell_type": "code",
   "execution_count": 17,
   "metadata": {
    "id": "NMtMpzJ-2w4V"
   },
   "outputs": [
    {
     "name": "stdout",
     "output_type": "stream",
     "text": [
      "Epoch [1/10], Train Loss: 2.8804, Train Accuracy: 32.62%, Validation Loss: 1.8570, Validation Accuracy: 56.21%\n",
      "Epoch [2/10], Train Loss: 1.3910, Train Accuracy: 68.01%, Validation Loss: 1.1821, Validation Accuracy: 75.08%\n",
      "Epoch [3/10], Train Loss: 1.0695, Train Accuracy: 76.26%, Validation Loss: 1.0358, Validation Accuracy: 77.82%\n",
      "Epoch [4/10], Train Loss: 0.9670, Train Accuracy: 79.34%, Validation Loss: 0.9734, Validation Accuracy: 79.38%\n",
      "Epoch [5/10], Train Loss: 0.9067, Train Accuracy: 80.99%, Validation Loss: 0.9241, Validation Accuracy: 81.02%\n",
      "Epoch [6/10], Train Loss: 0.8619, Train Accuracy: 82.27%, Validation Loss: 0.8883, Validation Accuracy: 82.02%\n",
      "Epoch [7/10], Train Loss: 0.8245, Train Accuracy: 83.29%, Validation Loss: 0.8542, Validation Accuracy: 83.43%\n",
      "Epoch [8/10], Train Loss: 0.7986, Train Accuracy: 83.93%, Validation Loss: 0.8300, Validation Accuracy: 83.66%\n",
      "Epoch [9/10], Train Loss: 0.7708, Train Accuracy: 84.68%, Validation Loss: 0.8212, Validation Accuracy: 83.93%\n",
      "Epoch [10/10], Train Loss: 0.7499, Train Accuracy: 85.20%, Validation Loss: 0.7921, Validation Accuracy: 84.67%\n"
     ]
    }
   ],
   "source": [
    "train(train_loader, val_loader)"
   ]
  },
  {
   "cell_type": "code",
   "execution_count": 18,
   "metadata": {},
   "outputs": [
    {
     "name": "stdout",
     "output_type": "stream",
     "text": [
      "Test Accuracy: 85.51%\n",
      "Test Accuracy: 84.67%\n",
      "Test Accuracy: 84.90%\n"
     ]
    }
   ],
   "source": [
    "eval(train_loader)\n",
    "eval(val_loader)\n",
    "eval(test_loader)"
   ]
  },
  {
   "cell_type": "code",
   "execution_count": 117,
   "metadata": {},
   "outputs": [],
   "source": [
    "def classify_random_example(test_loader):\n",
    "    model.eval()\n",
    "\n",
    "    # choosing a random batch \n",
    "    data_list = list(test_loader)\n",
    "    random_batch = np.random.randint(0, len(data_list))\n",
    "    inputs, labels = data_list[random_batch]\n",
    "    \n",
    "    # random sample from the batch\n",
    "    idx = np.random.randint(0, inputs.size(0))\n",
    "    image, label = inputs[idx], labels[idx]\n",
    "\n",
    "    image = image.to(device)\n",
    "    label = label.to(device)\n",
    "\n",
    "    with torch.no_grad():\n",
    "        output = model(image.unsqueeze(0))\n",
    "        _, predicted = torch.max(output, 1)\n",
    "\n",
    "    image = image.cpu().permute(1, 2, 0).numpy()\n",
    "    plt.imshow(image)\n",
    "    plt.title(f\"Predicted: {predicted.item()}, Correct: {label.item()}\")\n",
    "    plt.axis('off')\n",
    "    plt.show()"
   ]
  },
  {
   "cell_type": "code",
   "execution_count": 118,
   "metadata": {},
   "outputs": [
    {
     "name": "stderr",
     "output_type": "stream",
     "text": [
      "Clipping input data to the valid range for imshow with RGB data ([0..1] for floats or [0..255] for integers). Got range [-0.1372549..0.9843137].\n"
     ]
    },
    {
     "data": {
      "image/png": "[encoded data removed]",
      "text/plain": [
       "<Figure size 640x480 with 1 Axes>"
      ]
     },
     "metadata": {},
     "output_type": "display_data"
    }
   ],
   "source": [
    "classify_random_example(test_loader)"
   ]
  }
 ],
 "metadata": {
  "accelerator": "GPU",
  "colab": {
   "gpuType": "T4",
   "provenance": []
  },
  "kernelspec": {
   "display_name": "cv",
   "language": "python",
   "name": "python3"
  },
  "language_info": {
   "codemirror_mode": {
    "name": "ipython",
    "version": 3
   },
   "file_extension": ".py",
   "mimetype": "text/x-python",
   "name": "python",
   "nbconvert_exporter": "python",
   "pygments_lexer": "ipython3",
   "version": "3.10.15"
  }
 },
 "nbformat": 4,
 "nbformat_minor": 0
}
